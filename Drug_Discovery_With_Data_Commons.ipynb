{
  "nbformat": 4,
  "nbformat_minor": 0,
  "metadata": {
    "colab": {
      "name": "Drug Discovery With Data Commons.ipynb",
      "provenance": []
    },
    "kernelspec": {
      "display_name": "Python 3",
      "name": "python3"
    }
  },
  "cells": [
    {
      "cell_type": "code",
      "metadata": {
        "id": "zC9KWSIOuomF"
      },
      "source": [
        "#@title Install Data Commons\n",
        "!pip install --upgrade --quiet datacommons\n"
      ],
      "execution_count": 6,
      "outputs": []
    },
    {
      "cell_type": "code",
      "metadata": {
        "id": "wgznkj301TQC",
        "outputId": "6a254473-fb03-4a7c-e62e-00ee259d133b",
        "colab": {
          "base_uri": "https://localhost:8080/",
          "height": 582
        }
      },
      "source": [
        "#@title Install RDKit\n",
        "# Install rdkit for molecular similairty calculation\n",
        "# source: https://gist.github.com/philopon/a75a33919d9ae41dbed5bc6a39f5ede2\n",
        "\n",
        "import sys\n",
        "import os\n",
        "import requests\n",
        "import subprocess\n",
        "import shutil\n",
        "from logging import getLogger, StreamHandler, INFO\n",
        "\n",
        "\n",
        "logger = getLogger(__name__)\n",
        "logger.addHandler(StreamHandler())\n",
        "logger.setLevel(INFO)\n",
        "\n",
        "\n",
        "def install(\n",
        "        chunk_size=4096,\n",
        "        file_name=\"Miniconda3-latest-Linux-x86_64.sh\",\n",
        "        url_base=\"https://repo.continuum.io/miniconda/\",\n",
        "        conda_path=os.path.expanduser(os.path.join(\"~\", \"miniconda\")),\n",
        "        rdkit_version=None,\n",
        "        add_python_path=True,\n",
        "        force=False):\n",
        "    \"\"\"install rdkit from miniconda\n",
        "    ```\n",
        "    import rdkit_installer\n",
        "    rdkit_installer.install()\n",
        "    ```\n",
        "    \"\"\"\n",
        "\n",
        "    python_path = os.path.join(\n",
        "        conda_path,\n",
        "        \"lib\",\n",
        "        \"python{0}.{1}\".format(*sys.version_info),\n",
        "        \"site-packages\",\n",
        "    )\n",
        "\n",
        "    if add_python_path and python_path not in sys.path:\n",
        "        logger.info(\"add {} to PYTHONPATH\".format(python_path))\n",
        "        sys.path.append(python_path)\n",
        "\n",
        "    if os.path.isdir(os.path.join(python_path, \"rdkit\")):\n",
        "        logger.info(\"rdkit is already installed\")\n",
        "        if not force:\n",
        "            return\n",
        "\n",
        "        logger.info(\"force re-install\")\n",
        "\n",
        "    url = url_base + file_name\n",
        "    python_version = \"{0}.{1}.{2}\".format(*sys.version_info)\n",
        "\n",
        "    logger.info(\"python version: {}\".format(python_version))\n",
        "\n",
        "    if os.path.isdir(conda_path):\n",
        "        logger.warning(\"remove current miniconda\")\n",
        "        shutil.rmtree(conda_path)\n",
        "    elif os.path.isfile(conda_path):\n",
        "        logger.warning(\"remove {}\".format(conda_path))\n",
        "        os.remove(conda_path)\n",
        "\n",
        "    logger.info('fetching installer from {}'.format(url))\n",
        "    res = requests.get(url, stream=True)\n",
        "    res.raise_for_status()\n",
        "    with open(file_name, 'wb') as f:\n",
        "        for chunk in res.iter_content(chunk_size):\n",
        "            f.write(chunk)\n",
        "    logger.info('done')\n",
        "\n",
        "    logger.info('installing miniconda to {}'.format(conda_path))\n",
        "    subprocess.check_call([\"bash\", file_name, \"-b\", \"-p\", conda_path])\n",
        "    logger.info('done')\n",
        "\n",
        "    logger.info(\"installing rdkit\")\n",
        "    subprocess.check_call([\n",
        "        os.path.join(conda_path, \"bin\", \"conda\"),\n",
        "        \"install\",\n",
        "        \"--yes\",\n",
        "        \"-c\", \"rdkit\",\n",
        "        \"python=={}\".format(python_version),\n",
        "        \"rdkit\" if rdkit_version is None else \"rdkit=={}\".format(rdkit_version)])\n",
        "    logger.info(\"done\")\n",
        "\n",
        "    import rdkit\n",
        "    logger.info(\"rdkit-{} installation finished!\".format(rdkit.__version__))\n",
        "\n",
        "\n",
        "if __name__ == \"__main__\":\n",
        "    install()\n",
        "\n"
      ],
      "execution_count": 7,
      "outputs": [
        {
          "output_type": "stream",
          "name": "stderr",
          "text": [
            "add /root/miniconda/lib/python3.10/site-packages to PYTHONPATH\n",
            "INFO:__main__:add /root/miniconda/lib/python3.10/site-packages to PYTHONPATH\n",
            "python version: 3.10.12\n",
            "INFO:__main__:python version: 3.10.12\n",
            "fetching installer from https://repo.continuum.io/miniconda/Miniconda3-latest-Linux-x86_64.sh\n",
            "INFO:__main__:fetching installer from https://repo.continuum.io/miniconda/Miniconda3-latest-Linux-x86_64.sh\n",
            "done\n",
            "INFO:__main__:done\n",
            "installing miniconda to /root/miniconda\n",
            "INFO:__main__:installing miniconda to /root/miniconda\n",
            "done\n",
            "INFO:__main__:done\n",
            "installing rdkit\n",
            "INFO:__main__:installing rdkit\n"
          ]
        },
        {
          "output_type": "error",
          "ename": "CalledProcessError",
          "evalue": "Command '['/root/miniconda/bin/conda', 'install', '--yes', '-c', 'rdkit', 'python==3.10.12', 'rdkit']' returned non-zero exit status 1.",
          "traceback": [
            "\u001b[0;31m---------------------------------------------------------------------------\u001b[0m",
            "\u001b[0;31mCalledProcessError\u001b[0m                        Traceback (most recent call last)",
            "\u001b[0;32m<ipython-input-7-50c7958e8973>\u001b[0m in \u001b[0;36m<cell line: 89>\u001b[0;34m()\u001b[0m\n\u001b[1;32m     88\u001b[0m \u001b[0;34m\u001b[0m\u001b[0m\n\u001b[1;32m     89\u001b[0m \u001b[0;32mif\u001b[0m \u001b[0m__name__\u001b[0m \u001b[0;34m==\u001b[0m \u001b[0;34m\"__main__\"\u001b[0m\u001b[0;34m:\u001b[0m\u001b[0;34m\u001b[0m\u001b[0;34m\u001b[0m\u001b[0m\n\u001b[0;32m---> 90\u001b[0;31m     \u001b[0minstall\u001b[0m\u001b[0;34m(\u001b[0m\u001b[0;34m)\u001b[0m\u001b[0;34m\u001b[0m\u001b[0;34m\u001b[0m\u001b[0m\n\u001b[0m\u001b[1;32m     91\u001b[0m \u001b[0;34m\u001b[0m\u001b[0m\n",
            "\u001b[0;32m<ipython-input-7-50c7958e8973>\u001b[0m in \u001b[0;36minstall\u001b[0;34m(chunk_size, file_name, url_base, conda_path, rdkit_version, add_python_path, force)\u001b[0m\n\u001b[1;32m     74\u001b[0m \u001b[0;34m\u001b[0m\u001b[0m\n\u001b[1;32m     75\u001b[0m     \u001b[0mlogger\u001b[0m\u001b[0;34m.\u001b[0m\u001b[0minfo\u001b[0m\u001b[0;34m(\u001b[0m\u001b[0;34m\"installing rdkit\"\u001b[0m\u001b[0;34m)\u001b[0m\u001b[0;34m\u001b[0m\u001b[0;34m\u001b[0m\u001b[0m\n\u001b[0;32m---> 76\u001b[0;31m     subprocess.check_call([\n\u001b[0m\u001b[1;32m     77\u001b[0m         \u001b[0mos\u001b[0m\u001b[0;34m.\u001b[0m\u001b[0mpath\u001b[0m\u001b[0;34m.\u001b[0m\u001b[0mjoin\u001b[0m\u001b[0;34m(\u001b[0m\u001b[0mconda_path\u001b[0m\u001b[0;34m,\u001b[0m \u001b[0;34m\"bin\"\u001b[0m\u001b[0;34m,\u001b[0m \u001b[0;34m\"conda\"\u001b[0m\u001b[0;34m)\u001b[0m\u001b[0;34m,\u001b[0m\u001b[0;34m\u001b[0m\u001b[0;34m\u001b[0m\u001b[0m\n\u001b[1;32m     78\u001b[0m         \u001b[0;34m\"install\"\u001b[0m\u001b[0;34m,\u001b[0m\u001b[0;34m\u001b[0m\u001b[0;34m\u001b[0m\u001b[0m\n",
            "\u001b[0;32m/usr/lib/python3.10/subprocess.py\u001b[0m in \u001b[0;36mcheck_call\u001b[0;34m(*popenargs, **kwargs)\u001b[0m\n\u001b[1;32m    367\u001b[0m         \u001b[0;32mif\u001b[0m \u001b[0mcmd\u001b[0m \u001b[0;32mis\u001b[0m \u001b[0;32mNone\u001b[0m\u001b[0;34m:\u001b[0m\u001b[0;34m\u001b[0m\u001b[0;34m\u001b[0m\u001b[0m\n\u001b[1;32m    368\u001b[0m             \u001b[0mcmd\u001b[0m \u001b[0;34m=\u001b[0m \u001b[0mpopenargs\u001b[0m\u001b[0;34m[\u001b[0m\u001b[0;36m0\u001b[0m\u001b[0;34m]\u001b[0m\u001b[0;34m\u001b[0m\u001b[0;34m\u001b[0m\u001b[0m\n\u001b[0;32m--> 369\u001b[0;31m         \u001b[0;32mraise\u001b[0m \u001b[0mCalledProcessError\u001b[0m\u001b[0;34m(\u001b[0m\u001b[0mretcode\u001b[0m\u001b[0;34m,\u001b[0m \u001b[0mcmd\u001b[0m\u001b[0;34m)\u001b[0m\u001b[0;34m\u001b[0m\u001b[0;34m\u001b[0m\u001b[0m\n\u001b[0m\u001b[1;32m    370\u001b[0m     \u001b[0;32mreturn\u001b[0m \u001b[0;36m0\u001b[0m\u001b[0;34m\u001b[0m\u001b[0;34m\u001b[0m\u001b[0m\n\u001b[1;32m    371\u001b[0m \u001b[0;34m\u001b[0m\u001b[0m\n",
            "\u001b[0;31mCalledProcessError\u001b[0m: Command '['/root/miniconda/bin/conda', 'install', '--yes', '-c', 'rdkit', 'python==3.10.12', 'rdkit']' returned non-zero exit status 1."
          ]
        }
      ]
    },
    {
      "cell_type": "code",
      "metadata": {
        "id": "hNEV-zvZrEr5"
      },
      "source": [
        "# Disease Selector Widget\n",
        "import ipywidgets as widgets\n",
        "\n",
        "# Data Commons Query\n",
        "import datacommons as dc\n",
        "\n",
        "# RDKit Analysis and Ranking\n",
        "import pandas as pd\n",
        "from collections import defaultdict\n",
        "from ast import literal_eval\n",
        "from rdkit import DataStructs\n",
        "from rdkit import Chem\n",
        "from rdkit.Chem import AllChem\n",
        "from rdkit.Chem import Draw"
      ],
      "execution_count": null,
      "outputs": []
    },
    {
      "cell_type": "code",
      "metadata": {
        "id": "YacgDpyxcRGc",
        "cellView": "form"
      },
      "source": [
        "#@title Set Disease Name\n",
        "query_str = '''\n",
        "SELECT ?name\n",
        "WHERE {\n",
        "?a typeOf Disease .\n",
        "?a commonName ?name .\n",
        "}\n",
        "'''\n",
        "result = dc.query(query_str)\n",
        "disease_name_list = sorted([row['?name'] for row in result], key=str.lower)\n",
        "disease_selector = widgets.Dropdown(options=disease_name_list, value=\"Crohn's disease\", description='Disease:')\n",
        "\n",
        "disease_selector"
      ],
      "execution_count": null,
      "outputs": []
    },
    {
      "cell_type": "code",
      "metadata": {
        "cellView": "both",
        "id": "IC5yV7tJWiLe"
      },
      "source": [
        "disease_name = disease_selector.value\n",
        "# This query finds a node in Data Commons that is of type Disease and has the\n",
        "# common name of the disease we are looking for\n",
        "query_str = '''\n",
        "SELECT ?dcid\n",
        "WHERE {{\n",
        "?dcid typeOf Disease .\n",
        "?dcid commonName \"{0}\" .\n",
        "}}\n",
        "'''.format(disease_name)\n",
        "\n",
        "result = dc.query(query_str)\n",
        "print('query result: ' + str(result))\n",
        "\n",
        "disease_dcid = ''\n",
        "\n",
        "# Extract the dcid of the disease and save it to disease_dcid\n",
        "for row in result:\n",
        "  disease_dcid = row['?dcid']\n",
        "\n",
        "print(disease_dcid)"
      ],
      "execution_count": null,
      "outputs": []
    },
    {
      "cell_type": "code",
      "metadata": {
        "id": "NAfZqJbBviPZ"
      },
      "source": [
        "# find all ChemicalCompoundDiseaeTreatment nodes that includes the disease\n",
        "query_str = '''\n",
        "SELECT ?cdt_dcid\n",
        "WHERE {{\n",
        "?disease dcid \"{0}\" .\n",
        "?cdt_dcid typeOf \tChemicalCompoundDiseaseTreatment .\n",
        "?cdt_dcid diseaseID ?disease .\n",
        "}}\n",
        "'''.format(disease_dcid)\n",
        "\n",
        "result = dc.query(query_str)\n",
        "print('query result: ' + str(result))\n",
        "\n",
        "treatment_compounds = []\n",
        "\n",
        "if not result:\n",
        "  print('no treatments found')\n",
        "\n",
        "else:\n",
        "  # extract just the dcids of the ChemicalCompoundDiseaeTreatment nodes\n",
        "  cdt_dcids = set()\n",
        "  for row in result:\n",
        "    cdt_dcids.add(row['?cdt_dcid'])\n",
        "  print('CDT dcids: ' + str(cdt_dcids))\n",
        "\n",
        "  # Use Data Commons python API to get all of the compoundIDs from each CDT Node\n",
        "  compounds = dc.get_property_values(cdt_dcids, 'compoundID')\n",
        "  print('raw values:' + str(compounds))\n",
        "\n",
        "  # Lets reformat this retreived data into a single list of compounds so it is\n",
        "  # easier to iterate through in the future\n",
        "  treatment_compounds = [drug for cdt, drug_list in compounds.items() for drug in drug_list ]\n",
        "  print('treatment compounds: ' + str(treatment_compounds))\n",
        "  print(len(treatment_compounds))"
      ],
      "execution_count": null,
      "outputs": []
    },
    {
      "cell_type": "code",
      "metadata": {
        "id": "XNbC8DtdNLoe",
        "outputId": "b4ff9166-ceca-49fc-9842-0aa0ec4fab91",
        "colab": {
          "base_uri": "https://localhost:8080/"
        }
      },
      "source": [
        "# This query finds all ChemicalCompoundDiseaeContraindication nodes that the disease is connected to\n",
        "query_str = '''\n",
        "SELECT ?cdc_dcid\n",
        "WHERE {{\n",
        "?disease dcid \"{0}\" .\n",
        "?cdc_dcid typeOf \tChemicalCompoundDiseaseContraindication .\n",
        "?cdc_dcid diseaseID ?disease .\n",
        "}}\n",
        "'''.format(disease_dcid)\n",
        "\n",
        "result = dc.query(query_str)\n",
        "\n",
        "inadvisable_compounds = []\n",
        "\n",
        "if not result:\n",
        "  print('no contraindications found')\n",
        "else:\n",
        "  contraindication_dcids = set()\n",
        "  for row in result:\n",
        "    contraindication_dcids.add(row['?cdc_dcid'])\n",
        "  print(contraindication_dcids)\n",
        "\n",
        "  compounds = dc.get_property_values(contraindication_dcids, 'compoundID')\n",
        "  print('raw values: ' + str(compounds))\n",
        "\n",
        "  # reformat compounds into iterable list\n",
        "  inadvisable_compounds = [drug for cdc, drug_list in compounds.items() for drug in drug_list ]\n",
        "  print(inadvisable_compounds)\n",
        "  print(len(inadvisable_compounds))"
      ],
      "execution_count": null,
      "outputs": [
        {
          "output_type": "stream",
          "text": [
            "no contraindications found\n"
          ],
          "name": "stdout"
        }
      ]
    },
    {
      "cell_type": "code",
      "metadata": {
        "id": "xwDyBHg7QxrY"
      },
      "source": [
        "# This query finds all DiseaseGeneAssociation nodes involving the disease\n",
        "query_str = '''\n",
        "SELECT ?dga_dcid\n",
        "WHERE {{\n",
        "?disease dcid \"{0}\" .\n",
        "?dga_dcid typeOf \tDiseaseGeneAssociation .\n",
        "?dga_dcid diseaseOntologyID ?disease .\n",
        "}}\n",
        "'''.format(disease_dcid)\n",
        "\n",
        "all_associated_genes = []\n",
        "hg38_associated_genes = []\n",
        "\n",
        "result = dc.query(query_str)\n",
        "\n",
        "if not result:\n",
        "  print('no disease-gene associations found')\n",
        "else:\n",
        "  # retreive the gene dcids involved in all of the found DiseaseGeneAssociation\n",
        "  # nodes, then limit to hg38\n",
        "  dga_dcids = set()\n",
        "  for row in result:\n",
        "    dga_dcids.add(row['?dga_dcid'])\n",
        "  print('disease-gene asscociations: ' + str(dga_dcids))\n",
        "\n",
        "  genes_raw = dc.get_property_values(dga_dcids, 'geneID')\n",
        "  print('raw values: ' + str(genes_raw))\n",
        "\n",
        "  all_associated_genes = [gene for cdc, gene_list in genes_raw.items() for gene in gene_list ]\n",
        "  print('all associated genes: ' + str(all_associated_genes))\n",
        "  print(len(all_associated_genes))\n",
        "\n",
        "  # limit to hg38 genome assembly\n",
        "  hg38_associated_genes = [gene for gene in all_associated_genes if gene.startswith('bio/hg38')]\n",
        "  print('associated hg38 genes: ' + str(hg38_associated_genes))\n",
        "  print(len(hg38_associated_genes))"
      ],
      "execution_count": null,
      "outputs": []
    },
    {
      "cell_type": "code",
      "metadata": {
        "id": "v1PoHE2wQiaA"
      },
      "source": [
        "# Find ChemicalCompoundGeneAssociation nodes involving the newly found\n",
        "# associated genes\n",
        "query_str = '''\n",
        "SELECT ?cga_dcid ?gene\n",
        "WHERE {{\n",
        "?gene dcid (\"{0}\") .\n",
        "?cga_dcid typeOf ChemicalCompoundGeneAssociation .\n",
        "?cga_dcid geneID ?gene .\n",
        "}}\n",
        "'''\n",
        "\n",
        "result = conduct_query(query_str, hg38_associated_genes)\n",
        "\n",
        "candidate_to_genes = {}\n",
        "print(result)\n",
        "\n",
        "if not result:\n",
        "  print('no drug-gene associations found')\n",
        "else:\n",
        "  # retreive the compound dcids involved in the found\n",
        "  # ChemicalCompoundGeneAssociation nodes\n",
        "  cga_list = [row['?cga_dcid'] for row in result]\n",
        "  cga_to_candidate = dc.get_property_values(cga_list, 'compoundID')\n",
        "  print(cga_to_candidate)\n",
        "\n",
        "  for row in result:\n",
        "    candidate = cga_to_candidate[row['?cga_dcid']][0]\n",
        "\n",
        "    # ensure we have limited targets to hg38\n",
        "    if not row['?gene'].startswith('bio/hg38'):\n",
        "      continue\n",
        "    # save candidate to gene targets relationship\n",
        "    if candidate in candidate_to_genes:\n",
        "      candidate_to_genes[candidate].add(row['?gene'])\n",
        "    else:\n",
        "      candidate_to_genes[candidate] = {row['?gene']}\n",
        "\n",
        "print(candidate_to_genes)\n",
        "print(len(candidate_to_genes))"
      ],
      "execution_count": null,
      "outputs": []
    },
    {
      "cell_type": "code",
      "metadata": {
        "id": "-djueI0eTMJC"
      },
      "source": [
        "len(result)"
      ],
      "execution_count": null,
      "outputs": []
    },
    {
      "cell_type": "code",
      "metadata": {
        "id": "epEk0RgVwaxK",
        "colab": {
          "background_save": true
        }
      },
      "source": [
        "# Find ChemicalCompoundGeneAssociation nodes involving the treatment compounds\n",
        "query_str = '''\n",
        "SELECT ?cga_dcid ?reference_drug\n",
        "WHERE {{\n",
        "?reference_drug dcid (\"{0}\") .\n",
        "?cga_dcid typeOf ChemicalCompoundGeneAssociation .\n",
        "?cga_dcid compoundID ?reference_drug\n",
        "}}\n",
        "'''\n",
        "rows = conduct_query(query_str, treatment_compounds)\n",
        "\n",
        "gene_to_references = {}\n",
        "print(rows)\n",
        "\n",
        "if not rows:\n",
        "  print('no reference compound-gene associations found')\n",
        "else:\n",
        "  # extract gene target to treatment compound information\n",
        "  for row in rows:\n",
        "    gene = dc.get_property_values([row['?cga_dcid']], 'geneID')[row['?cga_dcid']][0]\n",
        "\n",
        "    # limit to using genome assembly hg38\n",
        "    if not gene.startswith('bio/hg38'):\n",
        "      continue\n",
        "    # save gene target to treatment compounds mapping\n",
        "    if gene in gene_to_references:\n",
        "      gene_to_references[gene].add(row['?reference_drug'])\n",
        "    else:\n",
        "      gene_to_references[gene] = {row['?reference_drug']}\n",
        "print(gene_to_references)"
      ],
      "execution_count": null,
      "outputs": []
    },
    {
      "cell_type": "code",
      "metadata": {
        "id": "R1IyfS6OKOVb",
        "colab": {
          "background_save": true
        }
      },
      "source": [
        "candidates = list(candidate_to_genes.keys()) # all candidates\n",
        "candidate_to_established_target = defaultdict(list) # group of candidates to be ranked\n",
        "candidate_to_novel_target = defaultdict(list) # group of candidates to remain unranked\n",
        "\n",
        "# determine which group each candidate falls under\n",
        "for candidate in candidates:\n",
        "  if (candidate in treatment_compounds) or (candidate in inadvisable_compounds):\n",
        "    continue\n",
        "  gene_targets = list(candidate_to_genes[candidate])\n",
        "  for gene_target in gene_targets:\n",
        "    # check if gene is targeted by a treatment compound\n",
        "    if gene_target in gene_to_references:\n",
        "      candidate_to_established_target[candidate].append(gene_target)\n",
        "    # otherwise add to list of candidates that shall remain unranked\n",
        "    else:\n",
        "      candidate_to_novel_target[candidate].append(gene_target)\n",
        "\n",
        "# candidates that share targets with reference compounds:\n",
        "print(candidate_to_established_target)\n",
        "print(len(candidate_to_established_target))\n",
        "\n",
        "# candidates with novel gene targets:\n",
        "print(candidate_to_novel_target)\n",
        "print(len(candidate_to_novel_target))\n",
        "print('\\n')\n",
        "# create dataframe to store and print the unranked candidates\n",
        "print('Unranked Candidates with Novel Gene Targets:')\n",
        "unranked_candidate_df = pd.DataFrame(\n",
        "    [(key, L) for (key, L) in candidate_to_novel_target.items()],\n",
        "                columns=['candidate_dcid', 'gene_target_list'])\n",
        "unranked_candidate_df"
      ],
      "execution_count": null,
      "outputs": []
    },
    {
      "cell_type": "code",
      "metadata": {
        "id": "jSDEWQTSR3Eb",
        "colab": {
          "background_save": true
        }
      },
      "source": [
        "# get SMILES for reference drugs, store in reference_drugs dict\n",
        "query_str = '''\n",
        "SELECT ?smiles ?drug\n",
        "WHERE {{\n",
        "?drug dcid (\"{0}\") .\n",
        "?drug simplifiedMolecularInputLineEntrySystem ?smiles .\n",
        "}}\n",
        "'''\n",
        "\n",
        "result = conduct_query(query_str, treatment_compounds)\n",
        "print(result)\n",
        "\n",
        "reference_drugs = {}\n",
        "\n",
        "if not result:\n",
        "  print('no smiles found')\n",
        "else:\n",
        "  for row in result:\n",
        "    reference_drugs[row['?drug']] = row['?smiles']\n"
      ],
      "execution_count": null,
      "outputs": []
    },
    {
      "cell_type": "code",
      "metadata": {
        "id": "9bkytgCMH8nx",
        "colab": {
          "background_save": true
        }
      },
      "source": [
        "# get the candidates that have established gene targets\n",
        "filtered_candidates = list(candidate_to_established_target.keys())\n",
        "print(len(filtered_candidates))\n",
        "\n",
        "# get SMILES of candidates, store in pandas dataframe candidate_df\n",
        "query_str = '''\n",
        "SELECT ?smiles ?drug\n",
        "WHERE {{\n",
        "?drug dcid (\"{0}\") .\n",
        "?drug simplifiedMolecularInputLineEntrySystem ?smiles .\n",
        "}}\n",
        "'''\n",
        "\n",
        "result = conduct_query(query_str, filtered_candidates)\n",
        "ranked_candidate_df = pd.DataFrame(columns = ['candidate_dcid', 'smiles'])\n",
        "\n",
        "if not result:\n",
        "  print('no smiles found')\n",
        "else:\n",
        "  for row in result:\n",
        "    ranked_candidate_df = ranked_candidate_df.append({'candidate_dcid': row['?drug'], 'smiles':row['?smiles']}, ignore_index=True)\n",
        "\n",
        "# add the gene targets for each candidate in the dataframe\n",
        "ranked_candidate_df['genes_list'] = ranked_candidate_df.candidate_dcid.apply(lambda dcid: candidate_to_established_target[dcid])\n",
        "# print out resulting data frame\n",
        "ranked_candidate_df"
      ],
      "execution_count": null,
      "outputs": []
    },
    {
      "cell_type": "code",
      "metadata": {
        "id": "8vKzWONYQbSo",
        "colab": {
          "background_save": true
        }
      },
      "source": [
        "def calculate_tanimoto_coeff(cand_smiles, ref_smiles):\n",
        "  \"\"\"Calculates Tanimoto Coefficient given SMILES of two compounds.\n",
        "\n",
        "  Find the structural similarity of candidate compound and reference compound\n",
        "  which share at least one gene target using Morgan Fingerprints and functions\n",
        "  from RDKit.\n",
        "\n",
        "  Args:\n",
        "      cand_smiles: SMILES of a candidate compound.\n",
        "      ref_smiles: SMILES of a reference compound.\n",
        "\n",
        "  Returns:\n",
        "      The calculated Tanimoto Coefficient for the two compounds.\n",
        "  \"\"\"\n",
        "  # construct the molecules from the SMILES using RDKit function\n",
        "  cand_mol = Chem.MolFromSmiles(cand_smiles)\n",
        "  ref_mol = Chem.MolFromSmiles(ref_smiles)\n",
        "\n",
        "  # create Morgan Fingerprints of the constructed molecules using RDKit function\n",
        "  cand_fgprint = AllChem.GetMorganFingerprintAsBitVect(cand_mol,2)\n",
        "  ref_fgprint = AllChem.GetMorganFingerprintAsBitVect(ref_mol,2)\n",
        "\n",
        "  # calculate Tanimoto similarity coefficient from fingerprints using RDKit function\n",
        "  similarity = DataStructs.TanimotoSimilarity(cand_fgprint,ref_fgprint)\n",
        "  return similarity"
      ],
      "execution_count": null,
      "outputs": []
    },
    {
      "cell_type": "code",
      "metadata": {
        "id": "QEcSSrjF3iWj"
      },
      "source": [
        "# given a single gene target and a candidate, find the highest tanimoto\n",
        "# coefficient the candidate has with a reference compound that targets the same\n",
        "# gene\n",
        "def find_max_sim(gene, cand_smiles):\n",
        "  \"\"\"Finds the treatment compound most similar to the candidate compound out of\n",
        "  all treatment compounds which target the given gene.\n",
        "\n",
        "  Given a gene and SMILES of a candidate compound, determines the\n",
        "  Tanimoto Coefficient between each treatment compound that targets the given\n",
        "  gene and the given candidate SMILES. Uses the gene_to_references dictionary\n",
        "  created in the Drug-Gene Associations Query section to map genes to the\n",
        "  treatment compounds which target them. Uses the reference_drugs dictionary\n",
        "  created in the Get Reference SMILES section to map treatment compound dcids\n",
        "  to their SMILES.\n",
        "\n",
        "  Args:\n",
        "      gene: Dcid of the gene to use as the given gene target.\n",
        "      cand_smiles: SMILES of a candidate compound.\n",
        "\n",
        "  Returns:\n",
        "      The highest determined Tanimoto Coefficient and the corresponding\n",
        "      treatment compound in the form of a dictionary.\n",
        "  \"\"\"\n",
        "  max = {'coeff': -1, 'ref':''}\n",
        "  if gene in gene_to_references:\n",
        "    for ref_mol in gene_to_references[gene]:\n",
        "      ref_smiles = reference_drugs[ref_mol];\n",
        "      sim = calculate_tanimoto_coeff(cand_smiles, ref_smiles)\n",
        "      if sim > max['coeff']:\n",
        "        max['coeff'] = sim\n",
        "        max['ref'] = ref_mol\n",
        "\n",
        "  return max\n",
        "\n",
        "# create list of highest Tanimoto Coefficients for each gene target of a\n",
        "# candidate\n",
        "def find_gene_sims(row):\n",
        "  \"\"\"Creates a list of Tanimoto Coefficient for each gene that a candidate\n",
        "  compound is known to target.\n",
        "\n",
        "  Given a row from ranked_candidate_df, finds the maximum Tanimoto Coefficient\n",
        "  for each gene target of the candidate. Saves the list of coefficients,\n",
        "  corresponding treatment compound dcids, and the pairings of coeffcients to\n",
        "  treatment compounds as separate columns in ranked_candidate_df.\n",
        "\n",
        "  Args:\n",
        "      row: Row of ranked_candidate_df containing columns for the candidate dcid,\n",
        "      candidate SMILES, and the candidates' gene targets.\n",
        "\n",
        "  Returns:\n",
        "      The given row with the new columns 'tanimoto_coefficients',\n",
        "      'reference_compounds', and 'similarity_pair' appended.\n",
        "  \"\"\"\n",
        "  row['tanimoto_coefficients'] = []\n",
        "  row['reference_compounds'] = []\n",
        "  row['similarity_pair'] = []\n",
        "\n",
        "  sim_pairs = []\n",
        "  for gene in row['genes_list']:\n",
        "    sim_pairs.append(find_max_sim(gene, row['smiles']))\n",
        "  sorted_sims = sorted(sim_pairs, key = lambda i: i['coeff'], reverse=True)\n",
        "  for pair in sorted_sims:\n",
        "    row['tanimoto_coefficients'].append(pair['coeff'])\n",
        "    row['reference_compounds'].append(pair['ref'])\n",
        "    row['similarity_pair'].append(pair)\n",
        "  return row\n",
        "\n",
        "# find the list of tanimoto coefficients\n",
        "ranked_candidate_df = ranked_candidate_df.apply(lambda row: find_gene_sims(row), axis=1)\n",
        "# sort the data frame\n",
        "ranked_candidate_df = ranked_candidate_df.sort_values(by='tanimoto_coefficients', ascending=False, ignore_index=True)\n",
        "# drop duplicates caused by compounds with multiple SMILES\n",
        "ranked_candidate_df.tanimoto_coefficients = ranked_candidate_df.tanimoto_coefficients.astype(str)\n",
        "ranked_candidate_df = ranked_candidate_df.drop_duplicates(subset=['candidate_dcid', 'tanimoto_coefficients'],ignore_index=True)\n",
        "ranked_candidate_df.tanimoto_coefficients = ranked_candidate_df.tanimoto_coefficients.apply(literal_eval)\n",
        "# print top 10 compounds\n",
        "ranked_candidate_df.head(10)"
      ],
      "execution_count": null,
      "outputs": []
    },
    {
      "cell_type": "code",
      "metadata": {
        "id": "f6lfZVGyXGvR",
        "colab": {
          "background_save": true
        }
      },
      "source": [
        "# View Top 10 Structures\n",
        "best_mols = ranked_candidate_df.smiles[:10].apply(Chem.MolFromSmiles)\n",
        "Chem.Draw.MolsToGridImage(best_mols,molsPerRow=5)"
      ],
      "execution_count": null,
      "outputs": []
    },
    {
      "cell_type": "code",
      "metadata": {
        "id": "T2TbfFYO4X1n"
      },
      "source": [
        "# View top molecule vs most similar treatment with shared gene target\n",
        "top_mol = Chem.MolFromSmiles(ranked_candidate_df.smiles[0])\n",
        "ref_mol = Chem.MolFromSmiles(reference_drugs[ranked_candidate_df.reference_compounds[0][0]])\n",
        "Chem.Draw.MolsToGridImage([top_mol, ref_mol], molsPerRow=2)"
      ],
      "execution_count": null,
      "outputs": []
    },
    {
      "cell_type": "code",
      "metadata": {
        "id": "wiCuzclQcbs1"
      },
      "source": [
        "top_mol_dcid = ranked_candidate_df['candidate_dcid'].tolist()[0]\n",
        "print('top candidate: ' + top_mol_dcid)\n",
        "\n",
        "# get outgoing triple labels for the drug\n",
        "out_labels = dc.get_property_labels([top_mol_dcid], out=True)[top_mol_dcid]\n",
        "print('\\nDrug properties we could examine:')\n",
        "for label in out_labels:\n",
        "  print(label)\n",
        "\n",
        "print('\\nSome specific values for bio/CHEMBL532:')\n",
        "for label in ['administrationRoute', 'commonName', 'dosageForm', 'drugName', 'maximumFDAClinicalTrialPhase', 'propietaryName', 'recognizingAuthority', 'url']:\n",
        "  value = dc.get_property_values([top_mol_dcid], label, out=True)[top_mol_dcid]\n",
        "  print(label + ': ' + str(value))"
      ],
      "execution_count": null,
      "outputs": []
    },
    {
      "cell_type": "code",
      "metadata": {
        "id": "ZISWqt2Pw8ks",
        "colab": {
          "background_save": true
        }
      },
      "source": [
        "# look at specific drug strength information\n",
        "strength_dcid = ''\n",
        "try:\n",
        "  strength_dcid = dc.get_property_values([top_mol_dcid], 'availableStrength', out=True)[top_mol_dcid]\n",
        "\n",
        "  out_labels = dc.get_property_labels(strength_dcid, out=True)[strength_dcid[0]]\n",
        "  print(strength_dcid)\n",
        "\n",
        "  print('---Outgoing Drug Strength Triples---')\n",
        "  for label in out_labels:\n",
        "    value = dc.get_property_values(strength_dcid, label, out=True)[strength_dcid[0]]\n",
        "    print(label + ': ' + str(value))\n",
        "except:\n",
        "    print('There is no FDA data for this compound.')\n",
        "\n",
        "if strength_dcid:\n",
        "  print('\\n')\n",
        "\n",
        "  # look at FDA Application\n",
        "  fda_app_dcid = dc.get_property_values(strength_dcid, 'submittedFDAApplication', out=True)[strength_dcid[0]]\n",
        "\n",
        "  print(fda_app_dcid)\n",
        "\n",
        "  out_labels = dc.get_property_labels(fda_app_dcid, out=True)[fda_app_dcid[0]]\n",
        "  print('---Outgoing FDA Application Triples---')\n",
        "  for label in out_labels:\n",
        "    value = dc.get_property_values(fda_app_dcid, label, out=True)[fda_app_dcid[0]]\n",
        "    print(label + ': ' + str(value))"
      ],
      "execution_count": null,
      "outputs": []
    },
    {
      "cell_type": "code",
      "metadata": {
        "id": "CS14W1-WuQMX"
      },
      "source": [
        "# get incoming triple labels for the drug\n",
        "in_labels = dc.get_property_labels([top_mol_dcid], out=False)[top_mol_dcid]\n",
        "print('in labels: ' + str(in_labels))\n",
        "print('\\n---Incoming Triples---')\n",
        "for label in in_labels:\n",
        "  value = dc.get_property_values([top_mol_dcid], label, out=False)[top_mol_dcid]\n",
        "  print(label + ' of ' + str(value))\n",
        "\n",
        "try:\n",
        "  print('\\n' + top_mol_dcid + ' is known to treat:')\n",
        "  # we want to find the side effects, we can do so by specifiying the type of\n",
        "  # incoming value we want to find\n",
        "  treatment_nodes = dc.get_property_values([top_mol_dcid], 'compoundID', out=False, value_type='ChemicalCompoundDiseaseTreatment')[top_mol_dcid]\n",
        "  treatment_lists = list(dc.get_property_values(treatment_nodes, 'diseaseID', out=True).values())\n",
        "  diseases = [disease_list[0] for disease_list in treatment_lists]\n",
        "\n",
        "  disease_names = list(dc.get_property_values(diseases, 'commonName', out=True).values())\n",
        "  for name in disease_names:\n",
        "    print(name)\n",
        "except:\n",
        "  print('There are no ChemicalCompoundDiseaseTreatment nodes involving this compound.')"
      ],
      "execution_count": null,
      "outputs": []
    }
  ]
}